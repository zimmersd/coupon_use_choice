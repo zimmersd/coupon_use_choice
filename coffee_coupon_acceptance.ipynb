{
 "cells": [
  {
   "cell_type": "markdown",
   "metadata": {},
   "source": [
    "### Will a Customer Accept the Coffee Coupon?\n",
    "\n",
    "\n",
    "**Introduction**\n",
    "\n",
    "This project seeks to determine what properties, such as time of day or age, are associated with a higher likelihood of accepting coffee coupons"
   ]
  },
  {
   "cell_type": "markdown",
   "metadata": {},
   "source": [
    "#### Brief Summary of Results"
   ]
  },
  {
   "cell_type": "markdown",
   "metadata": {},
   "source": [
    "Some of the categories that tended to be associated with a greater likelihood of accepting coffee coupons were:\n",
    "\n",
    "- mid-high frequency of visiting coffee locations\n",
    "- being within 15-25 minutes of the coupon location\n",
    "- sunny weather/temperature in the 80's\n",
    "- having no urgent destination\n",
    "- having friends as passengers\n",
    "- having a 1-day expiration window (vs. a 2-hour window)"
   ]
  },
  {
   "cell_type": "markdown",
   "metadata": {},
   "source": [
    "**Data**\n",
    "\n",
    "This data comes to us from the UCI Machine Learning repository and was collected via a survey on Amazon Mechanical Turk. The survey describes different driving scenarios including the destination, current time, weather, passenger, etc., and then ask the person whether he will accept the coupon if he is the driver. Answers that the user will drive there ‘right away’ or ‘later before the coupon expires’ are labeled as ‘Y = 1’ and answers ‘no, I do not want the coupon’ are labeled as ‘Y = 0’.  There are five different types of coupons -- less expensive restaurants (under \\\\$20), coffee houses, carry out & take away, bar, and more expensive restaurants (\\\\$20 - \\\\$50). "
   ]
  },
  {
   "cell_type": "markdown",
   "metadata": {},
   "source": [
    "### Import Statements"
   ]
  },
  {
   "cell_type": "code",
   "execution_count": 37,
   "metadata": {},
   "outputs": [],
   "source": [
    "import matplotlib.pyplot as plt\n",
    "import seaborn as sns\n",
    "import pandas as pd\n",
    "import numpy as np\n",
    "from itertools import chain, combinations"
   ]
  },
  {
   "cell_type": "markdown",
   "metadata": {},
   "source": [
    "### Quick look at the coupons data\n",
    "\n",
    "Reading in the `coupons.csv` file:"
   ]
  },
  {
   "cell_type": "code",
   "execution_count": 38,
   "metadata": {},
   "outputs": [],
   "source": [
    "data = pd.read_csv('coupons.csv')"
   ]
  },
  {
   "cell_type": "code",
   "execution_count": 39,
   "metadata": {},
   "outputs": [
    {
     "data": {
      "text/html": [
       "<div>\n",
       "<style scoped>\n",
       "    .dataframe tbody tr th:only-of-type {\n",
       "        vertical-align: middle;\n",
       "    }\n",
       "\n",
       "    .dataframe tbody tr th {\n",
       "        vertical-align: top;\n",
       "    }\n",
       "\n",
       "    .dataframe thead th {\n",
       "        text-align: right;\n",
       "    }\n",
       "</style>\n",
       "<table border=\"1\" class=\"dataframe\">\n",
       "  <thead>\n",
       "    <tr style=\"text-align: right;\">\n",
       "      <th></th>\n",
       "      <th>destination</th>\n",
       "      <th>passanger</th>\n",
       "      <th>weather</th>\n",
       "      <th>temperature</th>\n",
       "      <th>time</th>\n",
       "      <th>coupon</th>\n",
       "      <th>expiration</th>\n",
       "      <th>gender</th>\n",
       "      <th>age</th>\n",
       "      <th>maritalStatus</th>\n",
       "      <th>...</th>\n",
       "      <th>CoffeeHouse</th>\n",
       "      <th>CarryAway</th>\n",
       "      <th>RestaurantLessThan20</th>\n",
       "      <th>Restaurant20To50</th>\n",
       "      <th>toCoupon_GEQ5min</th>\n",
       "      <th>toCoupon_GEQ15min</th>\n",
       "      <th>toCoupon_GEQ25min</th>\n",
       "      <th>direction_same</th>\n",
       "      <th>direction_opp</th>\n",
       "      <th>Y</th>\n",
       "    </tr>\n",
       "  </thead>\n",
       "  <tbody>\n",
       "    <tr>\n",
       "      <th>0</th>\n",
       "      <td>No Urgent Place</td>\n",
       "      <td>Alone</td>\n",
       "      <td>Sunny</td>\n",
       "      <td>55</td>\n",
       "      <td>2PM</td>\n",
       "      <td>Restaurant(&lt;20)</td>\n",
       "      <td>1d</td>\n",
       "      <td>Female</td>\n",
       "      <td>21</td>\n",
       "      <td>Unmarried partner</td>\n",
       "      <td>...</td>\n",
       "      <td>never</td>\n",
       "      <td>NaN</td>\n",
       "      <td>4~8</td>\n",
       "      <td>1~3</td>\n",
       "      <td>1</td>\n",
       "      <td>0</td>\n",
       "      <td>0</td>\n",
       "      <td>0</td>\n",
       "      <td>1</td>\n",
       "      <td>1</td>\n",
       "    </tr>\n",
       "    <tr>\n",
       "      <th>1</th>\n",
       "      <td>No Urgent Place</td>\n",
       "      <td>Friend(s)</td>\n",
       "      <td>Sunny</td>\n",
       "      <td>80</td>\n",
       "      <td>10AM</td>\n",
       "      <td>Coffee House</td>\n",
       "      <td>2h</td>\n",
       "      <td>Female</td>\n",
       "      <td>21</td>\n",
       "      <td>Unmarried partner</td>\n",
       "      <td>...</td>\n",
       "      <td>never</td>\n",
       "      <td>NaN</td>\n",
       "      <td>4~8</td>\n",
       "      <td>1~3</td>\n",
       "      <td>1</td>\n",
       "      <td>0</td>\n",
       "      <td>0</td>\n",
       "      <td>0</td>\n",
       "      <td>1</td>\n",
       "      <td>0</td>\n",
       "    </tr>\n",
       "    <tr>\n",
       "      <th>2</th>\n",
       "      <td>No Urgent Place</td>\n",
       "      <td>Friend(s)</td>\n",
       "      <td>Sunny</td>\n",
       "      <td>80</td>\n",
       "      <td>10AM</td>\n",
       "      <td>Carry out &amp; Take away</td>\n",
       "      <td>2h</td>\n",
       "      <td>Female</td>\n",
       "      <td>21</td>\n",
       "      <td>Unmarried partner</td>\n",
       "      <td>...</td>\n",
       "      <td>never</td>\n",
       "      <td>NaN</td>\n",
       "      <td>4~8</td>\n",
       "      <td>1~3</td>\n",
       "      <td>1</td>\n",
       "      <td>1</td>\n",
       "      <td>0</td>\n",
       "      <td>0</td>\n",
       "      <td>1</td>\n",
       "      <td>1</td>\n",
       "    </tr>\n",
       "    <tr>\n",
       "      <th>3</th>\n",
       "      <td>No Urgent Place</td>\n",
       "      <td>Friend(s)</td>\n",
       "      <td>Sunny</td>\n",
       "      <td>80</td>\n",
       "      <td>2PM</td>\n",
       "      <td>Coffee House</td>\n",
       "      <td>2h</td>\n",
       "      <td>Female</td>\n",
       "      <td>21</td>\n",
       "      <td>Unmarried partner</td>\n",
       "      <td>...</td>\n",
       "      <td>never</td>\n",
       "      <td>NaN</td>\n",
       "      <td>4~8</td>\n",
       "      <td>1~3</td>\n",
       "      <td>1</td>\n",
       "      <td>1</td>\n",
       "      <td>0</td>\n",
       "      <td>0</td>\n",
       "      <td>1</td>\n",
       "      <td>0</td>\n",
       "    </tr>\n",
       "    <tr>\n",
       "      <th>4</th>\n",
       "      <td>No Urgent Place</td>\n",
       "      <td>Friend(s)</td>\n",
       "      <td>Sunny</td>\n",
       "      <td>80</td>\n",
       "      <td>2PM</td>\n",
       "      <td>Coffee House</td>\n",
       "      <td>1d</td>\n",
       "      <td>Female</td>\n",
       "      <td>21</td>\n",
       "      <td>Unmarried partner</td>\n",
       "      <td>...</td>\n",
       "      <td>never</td>\n",
       "      <td>NaN</td>\n",
       "      <td>4~8</td>\n",
       "      <td>1~3</td>\n",
       "      <td>1</td>\n",
       "      <td>1</td>\n",
       "      <td>0</td>\n",
       "      <td>0</td>\n",
       "      <td>1</td>\n",
       "      <td>0</td>\n",
       "    </tr>\n",
       "  </tbody>\n",
       "</table>\n",
       "<p>5 rows × 26 columns</p>\n",
       "</div>"
      ],
      "text/plain": [
       "       destination  passanger weather  temperature  time  \\\n",
       "0  No Urgent Place      Alone   Sunny           55   2PM   \n",
       "1  No Urgent Place  Friend(s)   Sunny           80  10AM   \n",
       "2  No Urgent Place  Friend(s)   Sunny           80  10AM   \n",
       "3  No Urgent Place  Friend(s)   Sunny           80   2PM   \n",
       "4  No Urgent Place  Friend(s)   Sunny           80   2PM   \n",
       "\n",
       "                  coupon expiration  gender age      maritalStatus  ...  \\\n",
       "0        Restaurant(<20)         1d  Female  21  Unmarried partner  ...   \n",
       "1           Coffee House         2h  Female  21  Unmarried partner  ...   \n",
       "2  Carry out & Take away         2h  Female  21  Unmarried partner  ...   \n",
       "3           Coffee House         2h  Female  21  Unmarried partner  ...   \n",
       "4           Coffee House         1d  Female  21  Unmarried partner  ...   \n",
       "\n",
       "   CoffeeHouse CarryAway RestaurantLessThan20 Restaurant20To50  \\\n",
       "0        never       NaN                  4~8              1~3   \n",
       "1        never       NaN                  4~8              1~3   \n",
       "2        never       NaN                  4~8              1~3   \n",
       "3        never       NaN                  4~8              1~3   \n",
       "4        never       NaN                  4~8              1~3   \n",
       "\n",
       "  toCoupon_GEQ5min toCoupon_GEQ15min toCoupon_GEQ25min direction_same  \\\n",
       "0                1                 0                 0              0   \n",
       "1                1                 0                 0              0   \n",
       "2                1                 1                 0              0   \n",
       "3                1                 1                 0              0   \n",
       "4                1                 1                 0              0   \n",
       "\n",
       "  direction_opp  Y  \n",
       "0             1  1  \n",
       "1             1  0  \n",
       "2             1  1  \n",
       "3             1  0  \n",
       "4             1  0  \n",
       "\n",
       "[5 rows x 26 columns]"
      ]
     },
     "execution_count": 39,
     "metadata": {},
     "output_type": "execute_result"
    }
   ],
   "source": [
    "data.head()"
   ]
  },
  {
   "cell_type": "code",
   "execution_count": 40,
   "metadata": {},
   "outputs": [
    {
     "name": "stdout",
     "output_type": "stream",
     "text": [
      "<class 'pandas.core.frame.DataFrame'>\n",
      "RangeIndex: 12684 entries, 0 to 12683\n",
      "Data columns (total 26 columns):\n",
      " #   Column                Non-Null Count  Dtype \n",
      "---  ------                --------------  ----- \n",
      " 0   destination           12684 non-null  object\n",
      " 1   passanger             12684 non-null  object\n",
      " 2   weather               12684 non-null  object\n",
      " 3   temperature           12684 non-null  int64 \n",
      " 4   time                  12684 non-null  object\n",
      " 5   coupon                12684 non-null  object\n",
      " 6   expiration            12684 non-null  object\n",
      " 7   gender                12684 non-null  object\n",
      " 8   age                   12684 non-null  object\n",
      " 9   maritalStatus         12684 non-null  object\n",
      " 10  has_children          12684 non-null  int64 \n",
      " 11  education             12684 non-null  object\n",
      " 12  occupation            12684 non-null  object\n",
      " 13  income                12684 non-null  object\n",
      " 14  car                   108 non-null    object\n",
      " 15  Bar                   12577 non-null  object\n",
      " 16  CoffeeHouse           12467 non-null  object\n",
      " 17  CarryAway             12533 non-null  object\n",
      " 18  RestaurantLessThan20  12554 non-null  object\n",
      " 19  Restaurant20To50      12495 non-null  object\n",
      " 20  toCoupon_GEQ5min      12684 non-null  int64 \n",
      " 21  toCoupon_GEQ15min     12684 non-null  int64 \n",
      " 22  toCoupon_GEQ25min     12684 non-null  int64 \n",
      " 23  direction_same        12684 non-null  int64 \n",
      " 24  direction_opp         12684 non-null  int64 \n",
      " 25  Y                     12684 non-null  int64 \n",
      "dtypes: int64(8), object(18)\n",
      "memory usage: 2.5+ MB\n"
     ]
    }
   ],
   "source": [
    "data.info()"
   ]
  },
  {
   "cell_type": "markdown",
   "metadata": {},
   "source": [
    "### Removal of observations with missing values"
   ]
  },
  {
   "cell_type": "markdown",
   "metadata": {},
   "source": [
    "I decided to drop the 'car' column because there are so few non-missing values,\n",
    "and will be difficult to get a result with this variable that meaningfully differentiates coupon acceptance\n",
    "rates:"
   ]
  },
  {
   "cell_type": "code",
   "execution_count": 41,
   "metadata": {},
   "outputs": [],
   "source": [
    "data_drop_car = data.drop('car', axis=1)"
   ]
  },
  {
   "cell_type": "markdown",
   "metadata": {},
   "source": [
    "### Comparing acceptance rates between groups"
   ]
  },
  {
   "cell_type": "markdown",
   "metadata": {},
   "source": [
    "I will eventually drop the other 605 rows that have missing data, which is just shy of 5% of the total number of observations, but first I want to compare the coupon acceptance\n",
    "rate between the data that have missing values and those that do not:"
   ]
  },
  {
   "cell_type": "code",
   "execution_count": 42,
   "metadata": {},
   "outputs": [
    {
     "data": {
      "text/plain": [
       "1    0.550413\n",
       "0    0.449587\n",
       "Name: Y, dtype: float64"
      ]
     },
     "execution_count": 42,
     "metadata": {},
     "output_type": "execute_result"
    }
   ],
   "source": [
    "nan_data = data_drop_car[data_drop_car.isnull().values.any(axis=1)]\n",
    "nan_data['Y'].value_counts(normalize=True)"
   ]
  },
  {
   "cell_type": "code",
   "execution_count": 43,
   "metadata": {},
   "outputs": [
    {
     "data": {
      "text/plain": [
       "1    0.569335\n",
       "0    0.430665\n",
       "Name: Y, dtype: float64"
      ]
     },
     "execution_count": 43,
     "metadata": {},
     "output_type": "execute_result"
    }
   ],
   "source": [
    "data_drop = data_drop_car.dropna()\n",
    "data_drop['Y'].value_counts(normalize=True)"
   ]
  },
  {
   "cell_type": "markdown",
   "metadata": {},
   "source": [
    "The difference in coupon acceptance rates between the two groups is relatively small (~<2%), so although the observations removed are relatively few, it's nice to know the two groups aren't too dissimilar in this regard. "
   ]
  },
  {
   "cell_type": "markdown",
   "metadata": {},
   "source": [
    "After dropping the observations with missing values, approximiately 57% of the observations chose to accept coupons of all types"
   ]
  },
  {
   "cell_type": "markdown",
   "metadata": {},
   "source": [
    "### Preliminary Visualizations"
   ]
  },
  {
   "cell_type": "code",
   "execution_count": 44,
   "metadata": {},
   "outputs": [
    {
     "data": {
      "image/png": "[encoded data removed]",
      "text/plain": [
       "<Figure size 640x480 with 1 Axes>"
      ]
     },
     "metadata": {},
     "output_type": "display_data"
    }
   ],
   "source": [
    "coupon_types = data_drop['coupon'].value_counts().index\n",
    "palette = np.array(sns.color_palette(\"deep\"))[:len(coupon_types)]\n",
    "\n",
    "# To preserve coupon-color consistency between plots\n",
    "palette_dict = dict(zip(coupon_types, palette)) \n",
    "\n",
    "coupon_counts = data_drop['coupon'].value_counts().values\n",
    "sns.barplot(x=coupon_types, y=coupon_counts, palette=palette)\n",
    "plt.xticks(rotation=30)\n",
    "plt.title(\"Coupon Type Counts\")\n",
    "plt.ylabel('Count')\n",
    "plt.xlabel('Coupon Type')\n",
    "plt.show()"
   ]
  },
  {
   "cell_type": "markdown",
   "metadata": {},
   "source": [
    "Coffee coupons were the largest share of coupons distributed, almost a third of all coupons"
   ]
  },
  {
   "cell_type": "markdown",
   "metadata": {},
   "source": [
    "Next I wanted to visually compare the coupon acceptance rates between coupon types for context:"
   ]
  },
  {
   "cell_type": "code",
   "execution_count": 45,
   "metadata": {},
   "outputs": [],
   "source": [
    "coupon_acceptance_rate = data_drop.groupby('coupon')['Y'].value_counts(normalize=True).unstack().reset_index()\n",
    "coupon_acceptance_rate = coupon_acceptance_rate[['coupon',1]].rename({1:\"acceptance_rate\"}, axis=1)\n",
    "coupon_acceptance_rate_sorted = coupon_acceptance_rate.sort_values(by='acceptance_rate', ascending=False).reset_index(drop=True)"
   ]
  },
  {
   "cell_type": "code",
   "execution_count": 46,
   "metadata": {},
   "outputs": [],
   "source": [
    "# establish the sorting order of coupon types to preserve the associated colors between barplots\n",
    "col_order = coupon_acceptance_rate_sorted['coupon'].tolist()\n",
    "palette_order = [palette_dict[col] for col in col_order]"
   ]
  },
  {
   "cell_type": "code",
   "execution_count": 47,
   "metadata": {},
   "outputs": [
    {
     "data": {
      "image/png": "[encoded data removed]",
      "text/plain": [
       "<Figure size 640x480 with 1 Axes>"
      ]
     },
     "metadata": {},
     "output_type": "display_data"
    }
   ],
   "source": [
    "sns.barplot(coupon_acceptance_rate_sorted, x='coupon', y='acceptance_rate', errorbar=None, palette=palette_order)\n",
    "plt.xticks(rotation=35)\n",
    "plt.ylim(0,1.0)\n",
    "plt.title(\"Coupon Acceptance Rates\")\n",
    "plt.ylabel('Acceptance Rate')\n",
    "plt.xlabel('Coupon Type')\n",
    "plt.show()"
   ]
  },
  {
   "cell_type": "markdown",
   "metadata": {},
   "source": [
    "Coffee coupons had one of the lower acceptance rates (just under 50%)  "
   ]
  },
  {
   "cell_type": "markdown",
   "metadata": {},
   "source": [
    "### Data mapping"
   ]
  },
  {
   "cell_type": "markdown",
   "metadata": {},
   "source": [
    "Before I filter the data to focus on coffee coupons, I wanted to modify the data and turn some the categorical variables to numeric data for easier analysis:"
   ]
  },
  {
   "cell_type": "code",
   "execution_count": 48,
   "metadata": {},
   "outputs": [],
   "source": [
    "time_mapper = {\"6PM\":18,\"7AM\":7, \"10AM\":10, \"2PM\":14, \"10PM\":22}\n",
    "\n",
    "income_mapper = {'$62500 - $74999':62500,\n",
    " '$12500 - $24999':12500,\n",
    " '$75000 - $87499':75000,\n",
    " '$50000 - $62499':50000,\n",
    " '$37500 - $49999':37500,\n",
    " '$25000 - $37499':25000,\n",
    " '$100000 or More':100000,\n",
    " '$87500 - $99999':87500,\n",
    " 'Less than $12500':6250}\n",
    "\n",
    "age_mapper = {'21':21,\n",
    "              '46':46,\n",
    "              '26':26, \n",
    "              '31':31, \n",
    "              '41':41, \n",
    "              '50plus':50, \n",
    "              '36':36, \n",
    "              'below21':18}"
   ]
  },
  {
   "cell_type": "code",
   "execution_count": 49,
   "metadata": {},
   "outputs": [],
   "source": [
    "# To avoid SettingwithCopyWarning (everything works as intended):\n",
    "pd.options.mode.chained_assignment = None\n",
    "data_drop.loc[:,\"time_numeric\"] = data_drop['time'].map(time_mapper)\n",
    "data_drop.loc[:,'income_min_numeric'] = data_drop['income'].map(income_mapper)\n",
    "data_drop.loc[:,'age_numeric'] = data_drop['age'].map(age_mapper)\n",
    "data_drop.rename(columns={'passanger':\"passenger\"},inplace=True)\n",
    "# To avoid missing possible future true positives of the SettingwithCopyWarning:\n",
    "pd.options.mode.chained_assignment = 'warn'"
   ]
  },
  {
   "cell_type": "code",
   "execution_count": 50,
   "metadata": {},
   "outputs": [],
   "source": [
    "chosen_columns = ['destination', 'passenger', 'weather', 'temperature', 'time_numeric', 'coupon',\n",
    "       'expiration', 'gender', 'age_numeric', 'maritalStatus', 'has_children',\n",
    "       'education', 'occupation', 'income_min_numeric', 'Bar', 'CoffeeHouse', 'CarryAway',\n",
    "       'RestaurantLessThan20', 'Restaurant20To50',\n",
    "       'toCoupon_GEQ15min', 'toCoupon_GEQ25min', 'direction_same',\n",
    "       'direction_opp', 'Y']\n",
    "\n",
    "data_select = data_drop[chosen_columns]"
   ]
  },
  {
   "cell_type": "markdown",
   "metadata": {},
   "source": [
    "## Investigating Coffee House Coupon Recipients"
   ]
  },
  {
   "cell_type": "markdown",
   "metadata": {},
   "source": [
    "Coffee coupons were distributed in the largest number but had one of the lower rates of acceptance (just under 50%), which is also lower than the overall coupon acceptance rate of 57%, so the rest of this exploration will focus on coffee coupon data."
   ]
  },
  {
   "cell_type": "code",
   "execution_count": 51,
   "metadata": {},
   "outputs": [],
   "source": [
    "coffee_coupons = data_select.query('coupon == \"Coffee House\"')"
   ]
  },
  {
   "cell_type": "markdown",
   "metadata": {},
   "source": [
    "### Acceptance rates split into various groups of two variables"
   ]
  },
  {
   "cell_type": "markdown",
   "metadata": {},
   "source": [
    "Here we will calculate and sort the acceptance rates for groups split up by the values of two variables.\n",
    "\n",
    "It also includes the number of observations for each group in the 'total_count' column, so you can calculate the number of coupons declined in each group by calculating: (1-acceptance_rate) * total_count"
   ]
  },
  {
   "cell_type": "code",
   "execution_count": 52,
   "metadata": {},
   "outputs": [],
   "source": [
    "def create_sorted_2_var_rate(df, var_1, var_2, threshold=30):\n",
    "    data = df.groupby([var_1,var_2])['Y'].value_counts().unstack().reset_index()\n",
    "    data['total_count'] = data[1] + data[0]\n",
    "    data['acceptance_rate'] = data[1] / data['total_count']\n",
    "    data = data[[var_1,var_2, 'acceptance_rate', 'total_count']]\n",
    "    sorted_data = data.sort_values('acceptance_rate', ascending=False).reset_index(drop=True)\n",
    "    return sorted_data.query('total_count >= @threshold')"
   ]
  },
  {
   "cell_type": "code",
   "execution_count": 53,
   "metadata": {},
   "outputs": [
    {
     "data": {
      "text/html": [
       "<div>\n",
       "<style scoped>\n",
       "    .dataframe tbody tr th:only-of-type {\n",
       "        vertical-align: middle;\n",
       "    }\n",
       "\n",
       "    .dataframe tbody tr th {\n",
       "        vertical-align: top;\n",
       "    }\n",
       "\n",
       "    .dataframe thead th {\n",
       "        text-align: right;\n",
       "    }\n",
       "</style>\n",
       "<table border=\"1\" class=\"dataframe\">\n",
       "  <thead>\n",
       "    <tr style=\"text-align: right;\">\n",
       "      <th>Y</th>\n",
       "      <th>education</th>\n",
       "      <th>CoffeeHouse</th>\n",
       "      <th>acceptance_rate</th>\n",
       "      <th>total_count</th>\n",
       "    </tr>\n",
       "  </thead>\n",
       "  <tbody>\n",
       "    <tr>\n",
       "      <th>1</th>\n",
       "      <td>High School Graduate</td>\n",
       "      <td>1~3</td>\n",
       "      <td>0.852459</td>\n",
       "      <td>61</td>\n",
       "    </tr>\n",
       "    <tr>\n",
       "      <th>2</th>\n",
       "      <td>Some college - no degree</td>\n",
       "      <td>gt8</td>\n",
       "      <td>0.752381</td>\n",
       "      <td>105</td>\n",
       "    </tr>\n",
       "    <tr>\n",
       "      <th>4</th>\n",
       "      <td>Some college - no degree</td>\n",
       "      <td>4~8</td>\n",
       "      <td>0.705036</td>\n",
       "      <td>139</td>\n",
       "    </tr>\n",
       "    <tr>\n",
       "      <th>5</th>\n",
       "      <td>Bachelors degree</td>\n",
       "      <td>4~8</td>\n",
       "      <td>0.693122</td>\n",
       "      <td>189</td>\n",
       "    </tr>\n",
       "    <tr>\n",
       "      <th>6</th>\n",
       "      <td>Bachelors degree</td>\n",
       "      <td>gt8</td>\n",
       "      <td>0.677778</td>\n",
       "      <td>90</td>\n",
       "    </tr>\n",
       "  </tbody>\n",
       "</table>\n",
       "</div>"
      ],
      "text/plain": [
       "Y                 education CoffeeHouse  acceptance_rate  total_count\n",
       "1      High School Graduate         1~3         0.852459           61\n",
       "2  Some college - no degree         gt8         0.752381          105\n",
       "4  Some college - no degree         4~8         0.705036          139\n",
       "5          Bachelors degree         4~8         0.693122          189\n",
       "6          Bachelors degree         gt8         0.677778           90"
      ]
     },
     "execution_count": 53,
     "metadata": {},
     "output_type": "execute_result"
    }
   ],
   "source": [
    "create_sorted_2_var_rate(coffee_coupons,'education', 'CoffeeHouse', 30).head(5)"
   ]
  },
  {
   "cell_type": "code",
   "execution_count": 54,
   "metadata": {},
   "outputs": [
    {
     "data": {
      "text/html": [
       "<div>\n",
       "<style scoped>\n",
       "    .dataframe tbody tr th:only-of-type {\n",
       "        vertical-align: middle;\n",
       "    }\n",
       "\n",
       "    .dataframe tbody tr th {\n",
       "        vertical-align: top;\n",
       "    }\n",
       "\n",
       "    .dataframe thead th {\n",
       "        text-align: right;\n",
       "    }\n",
       "</style>\n",
       "<table border=\"1\" class=\"dataframe\">\n",
       "  <thead>\n",
       "    <tr style=\"text-align: right;\">\n",
       "      <th>Y</th>\n",
       "      <th>education</th>\n",
       "      <th>CoffeeHouse</th>\n",
       "      <th>acceptance_rate</th>\n",
       "      <th>total_count</th>\n",
       "    </tr>\n",
       "  </thead>\n",
       "  <tbody>\n",
       "    <tr>\n",
       "      <th>22</th>\n",
       "      <td>High School Graduate</td>\n",
       "      <td>never</td>\n",
       "      <td>0.293478</td>\n",
       "      <td>92</td>\n",
       "    </tr>\n",
       "    <tr>\n",
       "      <th>23</th>\n",
       "      <td>Graduate degree (Masters or Doctorate)</td>\n",
       "      <td>never</td>\n",
       "      <td>0.216495</td>\n",
       "      <td>97</td>\n",
       "    </tr>\n",
       "    <tr>\n",
       "      <th>24</th>\n",
       "      <td>Some college - no degree</td>\n",
       "      <td>never</td>\n",
       "      <td>0.162712</td>\n",
       "      <td>295</td>\n",
       "    </tr>\n",
       "    <tr>\n",
       "      <th>25</th>\n",
       "      <td>Bachelors degree</td>\n",
       "      <td>never</td>\n",
       "      <td>0.139394</td>\n",
       "      <td>330</td>\n",
       "    </tr>\n",
       "    <tr>\n",
       "      <th>26</th>\n",
       "      <td>Associates degree</td>\n",
       "      <td>never</td>\n",
       "      <td>0.138889</td>\n",
       "      <td>72</td>\n",
       "    </tr>\n",
       "  </tbody>\n",
       "</table>\n",
       "</div>"
      ],
      "text/plain": [
       "Y                                education CoffeeHouse  acceptance_rate  \\\n",
       "22                    High School Graduate       never         0.293478   \n",
       "23  Graduate degree (Masters or Doctorate)       never         0.216495   \n",
       "24                Some college - no degree       never         0.162712   \n",
       "25                        Bachelors degree       never         0.139394   \n",
       "26                       Associates degree       never         0.138889   \n",
       "\n",
       "Y   total_count  \n",
       "22           92  \n",
       "23           97  \n",
       "24          295  \n",
       "25          330  \n",
       "26           72  "
      ]
     },
     "execution_count": 54,
     "metadata": {},
     "output_type": "execute_result"
    }
   ],
   "source": [
    "create_sorted_2_var_rate(coffee_coupons,'education', 'CoffeeHouse', 30).tail(5)"
   ]
  },
  {
   "cell_type": "markdown",
   "metadata": {},
   "source": [
    "From this we can see, just looking at education level and how frequently each person went to a coffee place, with a minimum of 30 observations within each group, the highest rate of acceptance went to high school graduates who visited a coffee place 1-3 times per month, and the lowest rate went to those with associates degrees who never go to coffee places. Overall, it seems the coffee house attendance rate is the more important factor, but is this only when paired with the education variable?   "
   ]
  },
  {
   "cell_type": "markdown",
   "metadata": {},
   "source": [
    "### Comparing acceptance rates between even more groups of paired variables"
   ]
  },
  {
   "cell_type": "markdown",
   "metadata": {},
   "source": [
    "This is helpful if you're interested in looking at just a few variables, but what if you're interested in looking at many different combinations of all the variable values? \n",
    "\n",
    "I didn't go beyond looking at two variables at once, but I made an attempt to try all combinations of variable values and see which came on top.  "
   ]
  },
  {
   "cell_type": "markdown",
   "metadata": {},
   "source": [
    "The following function expands on the previous one and is used as a helper function to build a\n",
    "dataframe containing all the combinations of independent variable values:"
   ]
  },
  {
   "cell_type": "code",
   "execution_count": 55,
   "metadata": {},
   "outputs": [],
   "source": [
    "def create_sorted_generic_2_var_rate(df, var_1, var_2, threshold=30, sort=True, sort_by = \"acceptance_rate\", ascending=False):\n",
    "    '''\n",
    "    Creates dataframe of 4 columns, 2 variables of choice and 2 columns of\n",
    "    acceptance rates and the total number of observations where the two variable \n",
    "    values make up each group. Each variable may have 2 or more values.\n",
    "    \n",
    "    The number of rows is determined by the threshold (minimum number of total count) and \n",
    "    the possible number of variable value combinations\n",
    "    \n",
    "    We can sort the dataframe by any of 1 of the 4 columns by name:\n",
    "    e.g. 'education', 'gender', (etc.) 'acceptance_rate', or 'total_count'\n",
    "    '''\n",
    "    # gives the value counts of each combination of 2-variable groups\n",
    "    # then gives us the total count for each group and the coupon acceptance rate\n",
    "    data = df.groupby([var_1,var_2])['Y'].value_counts().unstack().reset_index()\n",
    "    #  For (rare) instances where a group has 100 % acceptance/refusal     \n",
    "    data = data.fillna(0)\n",
    "    data['total_count'] = data[1] + data[0]\n",
    "    data['acceptance_rate'] = data[1] / data['total_count']\n",
    "    data = data[[var_1,var_2, 'acceptance_rate', 'total_count']]\n",
    "    # adds the variable type to each value to disambiguate certain values\n",
    "    # i.e. 1~3 --> 1~3 (CoffeeHouse)\n",
    "    for var in [var_1, var_2]:\n",
    "        data.loc[:,var] = data[var].astype(str) + ' ({})'.format(var)\n",
    "    # helps with sorting options and allows us to concatenate each dataframe going forward\n",
    "    col_mapper = {var_1:\"var_1\", var_2:\"var_2\", \"acceptance_rate\":\"acceptance_rate\", \"total_count\":\"total_count\"}\n",
    "    data = data.rename(columns=col_mapper)\n",
    "    if sort:\n",
    "        assert sort_by in (var_1, var_2, \"acceptance_rate\", \"total_count\"), \"cannot sort by column that doesn't exist\"\n",
    "        data = data.sort_values(col_mapper[sort_by], ascending=ascending).reset_index(drop=True)\n",
    "    return data.query('total_count >= @threshold')"
   ]
  },
  {
   "cell_type": "code",
   "execution_count": 56,
   "metadata": {},
   "outputs": [
    {
     "data": {
      "text/html": [
       "<div>\n",
       "<style scoped>\n",
       "    .dataframe tbody tr th:only-of-type {\n",
       "        vertical-align: middle;\n",
       "    }\n",
       "\n",
       "    .dataframe tbody tr th {\n",
       "        vertical-align: top;\n",
       "    }\n",
       "\n",
       "    .dataframe thead th {\n",
       "        text-align: right;\n",
       "    }\n",
       "</style>\n",
       "<table border=\"1\" class=\"dataframe\">\n",
       "  <thead>\n",
       "    <tr style=\"text-align: right;\">\n",
       "      <th>Y</th>\n",
       "      <th>var_1</th>\n",
       "      <th>var_2</th>\n",
       "      <th>acceptance_rate</th>\n",
       "      <th>total_count</th>\n",
       "    </tr>\n",
       "  </thead>\n",
       "  <tbody>\n",
       "    <tr>\n",
       "      <th>0</th>\n",
       "      <td>10 (time_numeric)</td>\n",
       "      <td>Female (gender)</td>\n",
       "      <td>0.647059</td>\n",
       "      <td>442</td>\n",
       "    </tr>\n",
       "    <tr>\n",
       "      <th>1</th>\n",
       "      <td>10 (time_numeric)</td>\n",
       "      <td>Male (gender)</td>\n",
       "      <td>0.621687</td>\n",
       "      <td>415</td>\n",
       "    </tr>\n",
       "    <tr>\n",
       "      <th>2</th>\n",
       "      <td>14 (time_numeric)</td>\n",
       "      <td>Female (gender)</td>\n",
       "      <td>0.559494</td>\n",
       "      <td>395</td>\n",
       "    </tr>\n",
       "    <tr>\n",
       "      <th>3</th>\n",
       "      <td>14 (time_numeric)</td>\n",
       "      <td>Male (gender)</td>\n",
       "      <td>0.530220</td>\n",
       "      <td>364</td>\n",
       "    </tr>\n",
       "    <tr>\n",
       "      <th>4</th>\n",
       "      <td>22 (time_numeric)</td>\n",
       "      <td>Male (gender)</td>\n",
       "      <td>0.471831</td>\n",
       "      <td>142</td>\n",
       "    </tr>\n",
       "    <tr>\n",
       "      <th>5</th>\n",
       "      <td>7 (time_numeric)</td>\n",
       "      <td>Male (gender)</td>\n",
       "      <td>0.456311</td>\n",
       "      <td>412</td>\n",
       "    </tr>\n",
       "    <tr>\n",
       "      <th>6</th>\n",
       "      <td>18 (time_numeric)</td>\n",
       "      <td>Male (gender)</td>\n",
       "      <td>0.429961</td>\n",
       "      <td>514</td>\n",
       "    </tr>\n",
       "    <tr>\n",
       "      <th>7</th>\n",
       "      <td>7 (time_numeric)</td>\n",
       "      <td>Female (gender)</td>\n",
       "      <td>0.425486</td>\n",
       "      <td>463</td>\n",
       "    </tr>\n",
       "    <tr>\n",
       "      <th>8</th>\n",
       "      <td>18 (time_numeric)</td>\n",
       "      <td>Female (gender)</td>\n",
       "      <td>0.395085</td>\n",
       "      <td>529</td>\n",
       "    </tr>\n",
       "    <tr>\n",
       "      <th>9</th>\n",
       "      <td>22 (time_numeric)</td>\n",
       "      <td>Female (gender)</td>\n",
       "      <td>0.385714</td>\n",
       "      <td>140</td>\n",
       "    </tr>\n",
       "  </tbody>\n",
       "</table>\n",
       "</div>"
      ],
      "text/plain": [
       "Y              var_1            var_2  acceptance_rate  total_count\n",
       "0  10 (time_numeric)  Female (gender)         0.647059          442\n",
       "1  10 (time_numeric)    Male (gender)         0.621687          415\n",
       "2  14 (time_numeric)  Female (gender)         0.559494          395\n",
       "3  14 (time_numeric)    Male (gender)         0.530220          364\n",
       "4  22 (time_numeric)    Male (gender)         0.471831          142\n",
       "5   7 (time_numeric)    Male (gender)         0.456311          412\n",
       "6  18 (time_numeric)    Male (gender)         0.429961          514\n",
       "7   7 (time_numeric)  Female (gender)         0.425486          463\n",
       "8  18 (time_numeric)  Female (gender)         0.395085          529\n",
       "9  22 (time_numeric)  Female (gender)         0.385714          140"
      ]
     },
     "execution_count": 56,
     "metadata": {},
     "output_type": "execute_result"
    }
   ],
   "source": [
    "create_sorted_generic_2_var_rate(coffee_coupons, 'time_numeric', 'gender')"
   ]
  },
  {
   "cell_type": "markdown",
   "metadata": {},
   "source": [
    "Here we can see that higher acceptance rates of coffee coupons were more influenced by time of day, with 10 am being the highest for both genders, followed by 2 pm (14).\n",
    "Then we have a different hierarchy of the remaining times that is more dependent on gender, with males having a generally higher acceptance rate for the remaining times of day compared to females. Again, this is just one slice of the many possible combinations of variables. "
   ]
  },
  {
   "cell_type": "markdown",
   "metadata": {},
   "source": [
    "### Building a list of unique variable combinations to check"
   ]
  },
  {
   "cell_type": "markdown",
   "metadata": {},
   "source": [
    "Creating an array of all combinations of variables of interest:"
   ]
  },
  {
   "cell_type": "code",
   "execution_count": 57,
   "metadata": {},
   "outputs": [
    {
     "data": {
      "text/plain": [
       "[('destination', 'passenger'),\n",
       " ('destination', 'weather'),\n",
       " ('destination', 'temperature'),\n",
       " ('destination', 'time_numeric'),\n",
       " ('destination', 'expiration'),\n",
       " ('destination', 'gender'),\n",
       " ('destination', 'age_numeric'),\n",
       " ('destination', 'maritalStatus'),\n",
       " ('destination', 'has_children'),\n",
       " ('destination', 'education')]"
      ]
     },
     "execution_count": 57,
     "metadata": {},
     "output_type": "execute_result"
    }
   ],
   "source": [
    "vars_to_check = ['destination',\n",
    " 'passenger',\n",
    " 'weather',\n",
    " 'temperature',\n",
    " 'time_numeric',\n",
    " 'expiration',\n",
    " 'gender',\n",
    " 'age_numeric',\n",
    " 'maritalStatus',\n",
    " 'has_children',\n",
    " 'education',\n",
    " 'income_min_numeric',\n",
    " 'toCoupon_GEQ15min',\n",
    " 'toCoupon_GEQ25min',\n",
    " 'direction_same',\n",
    " 'direction_opp']\n",
    "\n",
    "# to reduce the number of combinations, I decided not to include the attendance\n",
    "# frequency of other locations besides the coupon type\n",
    "\n",
    "coffee_vars = vars_to_check + ['CoffeeHouse']\n",
    "\n",
    "# redundant combination\n",
    "to_remove = ('direction_same', 'direction_opp')\n",
    "\n",
    "coffee_combs = list(combinations(coffee_vars, 2))\n",
    "coffee_combs.remove(to_remove)\n",
    "# First 10 combinations on the list\n",
    "coffee_combs[:10] "
   ]
  },
  {
   "cell_type": "code",
   "execution_count": 58,
   "metadata": {},
   "outputs": [
    {
     "data": {
      "text/plain": [
       "135"
      ]
     },
     "execution_count": 58,
     "metadata": {},
     "output_type": "execute_result"
    }
   ],
   "source": [
    "# 135 unique combinations of variables\n",
    "len(coffee_combs)"
   ]
  },
  {
   "cell_type": "markdown",
   "metadata": {},
   "source": [
    "Here's an example of how the combination array can be used in a one-off, with 'destination' and\n",
    "the 'expiration' window as the two variables of choice using simple indexing:"
   ]
  },
  {
   "cell_type": "code",
   "execution_count": 59,
   "metadata": {},
   "outputs": [
    {
     "data": {
      "text/html": [
       "<div>\n",
       "<style scoped>\n",
       "    .dataframe tbody tr th:only-of-type {\n",
       "        vertical-align: middle;\n",
       "    }\n",
       "\n",
       "    .dataframe tbody tr th {\n",
       "        vertical-align: top;\n",
       "    }\n",
       "\n",
       "    .dataframe thead th {\n",
       "        text-align: right;\n",
       "    }\n",
       "</style>\n",
       "<table border=\"1\" class=\"dataframe\">\n",
       "  <thead>\n",
       "    <tr style=\"text-align: right;\">\n",
       "      <th>Y</th>\n",
       "      <th>var_1</th>\n",
       "      <th>var_2</th>\n",
       "      <th>acceptance_rate</th>\n",
       "      <th>total_count</th>\n",
       "    </tr>\n",
       "  </thead>\n",
       "  <tbody>\n",
       "    <tr>\n",
       "      <th>0</th>\n",
       "      <td>No Urgent Place (destination)</td>\n",
       "      <td>1d (expiration)</td>\n",
       "      <td>0.631908</td>\n",
       "      <td>959</td>\n",
       "    </tr>\n",
       "    <tr>\n",
       "      <th>1</th>\n",
       "      <td>Work (destination)</td>\n",
       "      <td>1d (expiration)</td>\n",
       "      <td>0.598039</td>\n",
       "      <td>306</td>\n",
       "    </tr>\n",
       "    <tr>\n",
       "      <th>2</th>\n",
       "      <td>No Urgent Place (destination)</td>\n",
       "      <td>2h (expiration)</td>\n",
       "      <td>0.531079</td>\n",
       "      <td>1094</td>\n",
       "    </tr>\n",
       "    <tr>\n",
       "      <th>3</th>\n",
       "      <td>Home (destination)</td>\n",
       "      <td>1d (expiration)</td>\n",
       "      <td>0.453271</td>\n",
       "      <td>428</td>\n",
       "    </tr>\n",
       "    <tr>\n",
       "      <th>4</th>\n",
       "      <td>Work (destination)</td>\n",
       "      <td>2h (expiration)</td>\n",
       "      <td>0.355009</td>\n",
       "      <td>569</td>\n",
       "    </tr>\n",
       "    <tr>\n",
       "      <th>5</th>\n",
       "      <td>Home (destination)</td>\n",
       "      <td>2h (expiration)</td>\n",
       "      <td>0.278261</td>\n",
       "      <td>460</td>\n",
       "    </tr>\n",
       "  </tbody>\n",
       "</table>\n",
       "</div>"
      ],
      "text/plain": [
       "Y                          var_1            var_2  acceptance_rate  \\\n",
       "0  No Urgent Place (destination)  1d (expiration)         0.631908   \n",
       "1             Work (destination)  1d (expiration)         0.598039   \n",
       "2  No Urgent Place (destination)  2h (expiration)         0.531079   \n",
       "3             Home (destination)  1d (expiration)         0.453271   \n",
       "4             Work (destination)  2h (expiration)         0.355009   \n",
       "5             Home (destination)  2h (expiration)         0.278261   \n",
       "\n",
       "Y  total_count  \n",
       "0          959  \n",
       "1          306  \n",
       "2         1094  \n",
       "3          428  \n",
       "4          569  \n",
       "5          460  "
      ]
     },
     "execution_count": 59,
     "metadata": {},
     "output_type": "execute_result"
    }
   ],
   "source": [
    "create_sorted_generic_2_var_rate(coffee_coupons, coffee_combs[4][0], coffee_combs[4][1])"
   ]
  },
  {
   "cell_type": "code",
   "execution_count": 60,
   "metadata": {},
   "outputs": [],
   "source": [
    "def powerset_list(iterable):\n",
    "# function used in build_df (a function defined below) that allows us to sort by any combination of valid fields\n",
    "# refer to: https://docs.python.org/3/library/itertools.html\n",
    "    \"powerset_list([1,2,3]) --> [[1], [2], [3], [1, 2], [1, 3], [2, 3], [1, 2, 3]]\"\n",
    "    s = list(iterable)\n",
    "    set_list = []\n",
    "    power_gen = chain.from_iterable(combinations(s, r) for r in range(len(s)+1))\n",
    "    for item in power_gen:\n",
    "        set_list.append(list(set(item)))\n",
    "    set_list.remove(list(()))\n",
    "    return set_list"
   ]
  },
  {
   "cell_type": "markdown",
   "metadata": {},
   "source": [
    "Here is the main function that gives us a sorted dataframe with the acceptance rates of all supplied variable value combinations:"
   ]
  },
  {
   "cell_type": "code",
   "execution_count": 61,
   "metadata": {},
   "outputs": [],
   "source": [
    "def build_df(df, var_comb_list, threshold=30, sort=True, sort_by=[\"acceptance_rate\"], ascending=False):\n",
    "    '''\n",
    "    Iterates through all unique variable value combinations, creating a dataframe of 4 columns,\n",
    "    2 variables included in the list of unique variable combinations and 2 columns of\n",
    "    acceptance rates and the total number of observations where both variables make up each group\n",
    "    \n",
    "    Applies a threshold to the total_count and can be sorted by any combination of the 4 column names:\n",
    "    e.g. if sort_by == [\"var_2\", \"total_count\"], the dataframe will prioritize sorting by the \"var_2\" column\n",
    "    in reverse alphabetical order (if ascending == False), and ties therein will then sort by the total_count \n",
    "    (from largest to smallest) \n",
    "    '''\n",
    "    grown_df = create_sorted_generic_2_var_rate(df, var_comb_list[0][0], var_comb_list[0][1], threshold=1, sort=False)\n",
    "    for var_1, var_2 in var_comb_list[1:]:\n",
    "        next_df = create_sorted_generic_2_var_rate(df, var_1, var_2, threshold=1, sort=False)\n",
    "        grown_df = pd.concat([grown_df, next_df], ignore_index=True)\n",
    "    if sort:\n",
    "        assert list(set(sort_by)) in powerset_list([\"var_1\", \"var_2\", \"acceptance_rate\", \"total_count\"]), \"cannot sort by choice of column(s)\"\n",
    "        grown_df = grown_df.sort_values(by=sort_by, ascending=ascending).reset_index(drop=True)\n",
    "    return grown_df.query('total_count >= @threshold').reset_index(drop=True)"
   ]
  },
  {
   "cell_type": "markdown",
   "metadata": {},
   "source": [
    "I will use this to look at two different cases:\n",
    "- (1) the minimum group size threshold is relatively low (n=30) and\n",
    "- (2) the minimum group size is relatively high, roughly 30% of the entire coffee coupon population (n=1145)"
   ]
  },
  {
   "cell_type": "code",
   "execution_count": 62,
   "metadata": {},
   "outputs": [
    {
     "data": {
      "text/html": [
       "<div>\n",
       "<style scoped>\n",
       "    .dataframe tbody tr th:only-of-type {\n",
       "        vertical-align: middle;\n",
       "    }\n",
       "\n",
       "    .dataframe tbody tr th {\n",
       "        vertical-align: top;\n",
       "    }\n",
       "\n",
       "    .dataframe thead th {\n",
       "        text-align: right;\n",
       "    }\n",
       "</style>\n",
       "<table border=\"1\" class=\"dataframe\">\n",
       "  <thead>\n",
       "    <tr style=\"text-align: right;\">\n",
       "      <th>Y</th>\n",
       "      <th>var_1</th>\n",
       "      <th>var_2</th>\n",
       "      <th>acceptance_rate</th>\n",
       "      <th>total_count</th>\n",
       "    </tr>\n",
       "  </thead>\n",
       "  <tbody>\n",
       "    <tr>\n",
       "      <th>0</th>\n",
       "      <td>Friend(s) (passenger)</td>\n",
       "      <td>1 (direction_opp)</td>\n",
       "      <td>0.597447</td>\n",
       "      <td>1175.0</td>\n",
       "    </tr>\n",
       "    <tr>\n",
       "      <th>1</th>\n",
       "      <td>No Urgent Place (destination)</td>\n",
       "      <td>Friend(s) (passenger)</td>\n",
       "      <td>0.597447</td>\n",
       "      <td>1175.0</td>\n",
       "    </tr>\n",
       "    <tr>\n",
       "      <th>2</th>\n",
       "      <td>Friend(s) (passenger)</td>\n",
       "      <td>0 (direction_same)</td>\n",
       "      <td>0.597447</td>\n",
       "      <td>1175.0</td>\n",
       "    </tr>\n",
       "    <tr>\n",
       "      <th>3</th>\n",
       "      <td>Friend(s) (passenger)</td>\n",
       "      <td>0 (toCoupon_GEQ25min)</td>\n",
       "      <td>0.597447</td>\n",
       "      <td>1175.0</td>\n",
       "    </tr>\n",
       "    <tr>\n",
       "      <th>4</th>\n",
       "      <td>Friend(s) (passenger)</td>\n",
       "      <td>Sunny (weather)</td>\n",
       "      <td>0.597447</td>\n",
       "      <td>1175.0</td>\n",
       "    </tr>\n",
       "    <tr>\n",
       "      <th>...</th>\n",
       "      <td>...</td>\n",
       "      <td>...</td>\n",
       "      <td>...</td>\n",
       "      <td>...</td>\n",
       "    </tr>\n",
       "    <tr>\n",
       "      <th>74</th>\n",
       "      <td>Alone (passenger)</td>\n",
       "      <td>1 (direction_opp)</td>\n",
       "      <td>0.393717</td>\n",
       "      <td>1496.0</td>\n",
       "    </tr>\n",
       "    <tr>\n",
       "      <th>75</th>\n",
       "      <td>Alone (passenger)</td>\n",
       "      <td>0 (direction_same)</td>\n",
       "      <td>0.393717</td>\n",
       "      <td>1496.0</td>\n",
       "    </tr>\n",
       "    <tr>\n",
       "      <th>76</th>\n",
       "      <td>Alone (passenger)</td>\n",
       "      <td>1 (toCoupon_GEQ15min)</td>\n",
       "      <td>0.390558</td>\n",
       "      <td>1165.0</td>\n",
       "    </tr>\n",
       "    <tr>\n",
       "      <th>77</th>\n",
       "      <td>2h (expiration)</td>\n",
       "      <td>1 (toCoupon_GEQ15min)</td>\n",
       "      <td>0.371697</td>\n",
       "      <td>1173.0</td>\n",
       "    </tr>\n",
       "    <tr>\n",
       "      <th>78</th>\n",
       "      <td>Alone (passenger)</td>\n",
       "      <td>2h (expiration)</td>\n",
       "      <td>0.358150</td>\n",
       "      <td>1276.0</td>\n",
       "    </tr>\n",
       "  </tbody>\n",
       "</table>\n",
       "<p>79 rows × 4 columns</p>\n",
       "</div>"
      ],
      "text/plain": [
       "Y                           var_1                  var_2  acceptance_rate  \\\n",
       "0           Friend(s) (passenger)      1 (direction_opp)         0.597447   \n",
       "1   No Urgent Place (destination)  Friend(s) (passenger)         0.597447   \n",
       "2           Friend(s) (passenger)     0 (direction_same)         0.597447   \n",
       "3           Friend(s) (passenger)  0 (toCoupon_GEQ25min)         0.597447   \n",
       "4           Friend(s) (passenger)        Sunny (weather)         0.597447   \n",
       "..                            ...                    ...              ...   \n",
       "74              Alone (passenger)      1 (direction_opp)         0.393717   \n",
       "75              Alone (passenger)     0 (direction_same)         0.393717   \n",
       "76              Alone (passenger)  1 (toCoupon_GEQ15min)         0.390558   \n",
       "77                2h (expiration)  1 (toCoupon_GEQ15min)         0.371697   \n",
       "78              Alone (passenger)        2h (expiration)         0.358150   \n",
       "\n",
       "Y   total_count  \n",
       "0        1175.0  \n",
       "1        1175.0  \n",
       "2        1175.0  \n",
       "3        1175.0  \n",
       "4        1175.0  \n",
       "..          ...  \n",
       "74       1496.0  \n",
       "75       1496.0  \n",
       "76       1165.0  \n",
       "77       1173.0  \n",
       "78       1276.0  \n",
       "\n",
       "[79 rows x 4 columns]"
      ]
     },
     "execution_count": 62,
     "metadata": {},
     "output_type": "execute_result"
    }
   ],
   "source": [
    "coffee_var_rates_1145 = build_df(coffee_coupons, coffee_combs, threshold=round(coffee_coupons.shape[0] * 0.30))\n",
    "coffee_var_rates_1145"
   ]
  },
  {
   "cell_type": "code",
   "execution_count": 63,
   "metadata": {},
   "outputs": [
    {
     "data": {
      "text/html": [
       "<div>\n",
       "<style scoped>\n",
       "    .dataframe tbody tr th:only-of-type {\n",
       "        vertical-align: middle;\n",
       "    }\n",
       "\n",
       "    .dataframe tbody tr th {\n",
       "        vertical-align: top;\n",
       "    }\n",
       "\n",
       "    .dataframe thead th {\n",
       "        text-align: right;\n",
       "    }\n",
       "</style>\n",
       "<table border=\"1\" class=\"dataframe\">\n",
       "  <thead>\n",
       "    <tr style=\"text-align: right;\">\n",
       "      <th>Y</th>\n",
       "      <th>var_1</th>\n",
       "      <th>var_2</th>\n",
       "      <th>acceptance_rate</th>\n",
       "      <th>total_count</th>\n",
       "    </tr>\n",
       "  </thead>\n",
       "  <tbody>\n",
       "    <tr>\n",
       "      <th>0</th>\n",
       "      <td>87500 (income_min_numeric)</td>\n",
       "      <td>4~8 (CoffeeHouse)</td>\n",
       "      <td>0.882353</td>\n",
       "      <td>34.0</td>\n",
       "    </tr>\n",
       "    <tr>\n",
       "      <th>1</th>\n",
       "      <td>High School Graduate (education)</td>\n",
       "      <td>1~3 (CoffeeHouse)</td>\n",
       "      <td>0.852459</td>\n",
       "      <td>61.0</td>\n",
       "    </tr>\n",
       "    <tr>\n",
       "      <th>2</th>\n",
       "      <td>Friend(s) (passenger)</td>\n",
       "      <td>18 (age_numeric)</td>\n",
       "      <td>0.842105</td>\n",
       "      <td>38.0</td>\n",
       "    </tr>\n",
       "    <tr>\n",
       "      <th>3</th>\n",
       "      <td>25000 (income_min_numeric)</td>\n",
       "      <td>gt8 (CoffeeHouse)</td>\n",
       "      <td>0.842105</td>\n",
       "      <td>38.0</td>\n",
       "    </tr>\n",
       "    <tr>\n",
       "      <th>4</th>\n",
       "      <td>6250 (income_min_numeric)</td>\n",
       "      <td>4~8 (CoffeeHouse)</td>\n",
       "      <td>0.840909</td>\n",
       "      <td>44.0</td>\n",
       "    </tr>\n",
       "    <tr>\n",
       "      <th>...</th>\n",
       "      <td>...</td>\n",
       "      <td>...</td>\n",
       "      <td>...</td>\n",
       "      <td>...</td>\n",
       "    </tr>\n",
       "    <tr>\n",
       "      <th>1579</th>\n",
       "      <td>Home (destination)</td>\n",
       "      <td>never (CoffeeHouse)</td>\n",
       "      <td>0.087963</td>\n",
       "      <td>216.0</td>\n",
       "    </tr>\n",
       "    <tr>\n",
       "      <th>1580</th>\n",
       "      <td>100000 (income_min_numeric)</td>\n",
       "      <td>never (CoffeeHouse)</td>\n",
       "      <td>0.084906</td>\n",
       "      <td>106.0</td>\n",
       "    </tr>\n",
       "    <tr>\n",
       "      <th>1581</th>\n",
       "      <td>75000 (income_min_numeric)</td>\n",
       "      <td>never (CoffeeHouse)</td>\n",
       "      <td>0.081818</td>\n",
       "      <td>110.0</td>\n",
       "    </tr>\n",
       "    <tr>\n",
       "      <th>1582</th>\n",
       "      <td>1 (toCoupon_GEQ25min)</td>\n",
       "      <td>never (CoffeeHouse)</td>\n",
       "      <td>0.073529</td>\n",
       "      <td>68.0</td>\n",
       "    </tr>\n",
       "    <tr>\n",
       "      <th>1583</th>\n",
       "      <td>26 (age_numeric)</td>\n",
       "      <td>75000 (income_min_numeric)</td>\n",
       "      <td>0.020000</td>\n",
       "      <td>50.0</td>\n",
       "    </tr>\n",
       "  </tbody>\n",
       "</table>\n",
       "<p>1584 rows × 4 columns</p>\n",
       "</div>"
      ],
      "text/plain": [
       "Y                                var_1                       var_2  \\\n",
       "0           87500 (income_min_numeric)           4~8 (CoffeeHouse)   \n",
       "1     High School Graduate (education)           1~3 (CoffeeHouse)   \n",
       "2                Friend(s) (passenger)            18 (age_numeric)   \n",
       "3           25000 (income_min_numeric)           gt8 (CoffeeHouse)   \n",
       "4            6250 (income_min_numeric)           4~8 (CoffeeHouse)   \n",
       "...                                ...                         ...   \n",
       "1579                Home (destination)         never (CoffeeHouse)   \n",
       "1580       100000 (income_min_numeric)         never (CoffeeHouse)   \n",
       "1581        75000 (income_min_numeric)         never (CoffeeHouse)   \n",
       "1582             1 (toCoupon_GEQ25min)         never (CoffeeHouse)   \n",
       "1583                  26 (age_numeric)  75000 (income_min_numeric)   \n",
       "\n",
       "Y     acceptance_rate  total_count  \n",
       "0            0.882353         34.0  \n",
       "1            0.852459         61.0  \n",
       "2            0.842105         38.0  \n",
       "3            0.842105         38.0  \n",
       "4            0.840909         44.0  \n",
       "...               ...          ...  \n",
       "1579         0.087963        216.0  \n",
       "1580         0.084906        106.0  \n",
       "1581         0.081818        110.0  \n",
       "1582         0.073529         68.0  \n",
       "1583         0.020000         50.0  \n",
       "\n",
       "[1584 rows x 4 columns]"
      ]
     },
     "execution_count": 63,
     "metadata": {},
     "output_type": "execute_result"
    }
   ],
   "source": [
    "coffee_var_rates_30 = build_df(coffee_coupons, coffee_combs, threshold=30)\n",
    "coffee_var_rates_30"
   ]
  },
  {
   "cell_type": "markdown",
   "metadata": {},
   "source": [
    "We can see where the count threshold is higher, there are fewer groups and the acceptance rate range is smaller, with a lower ceiling and a higher floor.\n",
    "\n",
    "We can also observe that some variable values tend to appear more frequently with higher acceptance rates but it's hard to tell the single most influential variable at a glance---when the count threshold is high, friends as passengers seems to be associated with higher acceptance rates, and alone with lower rates; with a lower count threshold, coffee house attendance rate appears to be a bigger factor than the passenger.\n",
    "\n",
    "Although it's a bit inexact since, as designed, each variable is tied to another variable to form each group. We could also attach some weight to the relative acceptance rates between groups. However, I will simply try counting the variable values that appear for groups that have acceptance rates over 50% and tabulate the results for both the low and high minimum group size cases. \n",
    "\n",
    "Starting with the higher minimum group size case:"
   ]
  },
  {
   "cell_type": "markdown",
   "metadata": {},
   "source": [
    "### Tabulating the most common variable values associated with a greater than 50% 'likelihood' of accepting the coffee coupon"
   ]
  },
  {
   "cell_type": "code",
   "execution_count": 64,
   "metadata": {},
   "outputs": [
    {
     "name": "stdout",
     "output_type": "stream",
     "text": [
      "('0 (toCoupon_GEQ25min)', 14)\n",
      "('Sunny (weather)', 10)\n",
      "('80 (temperature)', 8)\n",
      "('No Urgent Place (destination)', 7)\n",
      "('0 (has_children)', 7)\n",
      "('1 (direction_opp)', 7)\n",
      "('0 (toCoupon_GEQ15min)', 6)\n",
      "('Single (maritalStatus)', 5)\n",
      "('Friend(s) (passenger)', 5)\n",
      "('1d (expiration)', 4)\n",
      "('Male (gender)', 3)\n",
      "('Female (gender)', 2)\n",
      "('Some college - no degree (education)', 2)\n",
      "('Married partner (maritalStatus)', 1)\n"
     ]
    }
   ],
   "source": [
    "# filter out pairs of variables (groups) that have acceptance rates below 0.5000, then\n",
    "# isolate the remaining variable columns, and flatten them into a list \n",
    "var_cols_list_1145 = np.concatenate(coffee_var_rates_1145.query('acceptance_rate > 0.5000')[['var_1', 'var_2']].values).ravel().tolist()\n",
    "\n",
    "#create a tabulation dictionary to count the number of appearances of each variable value\n",
    "count_dict_1145 = {key:0 for key in set(var_cols_list_1145)}\n",
    "for val in var_cols_list_1145:\n",
    "    count_dict_1145[val] += 1\n",
    "\n",
    "# sort the dictionary into a list of tuples in descending order, \n",
    "# with the most frequent value appearing first\n",
    "count_list_sorted_1145 = sorted(count_dict_1145.items(), key=lambda x:x[1], reverse=True)\n",
    "\n",
    "# since ('1 (direction_opp)', 7) is already in the list:\n",
    "count_list_sorted_1145.remove(('0 (direction_same)', 7))\n",
    "\n",
    "# viewing the values and number of appearances:\n",
    "for i in count_list_sorted_1145:\n",
    "    print(i)"
   ]
  },
  {
   "cell_type": "code",
   "execution_count": 65,
   "metadata": {},
   "outputs": [
    {
     "data": {
      "image/png": "[encoded data removed]",
      "text/plain": [
       "<Figure size 640x480 with 1 Axes>"
      ]
     },
     "metadata": {},
     "output_type": "display_data"
    }
   ],
   "source": [
    "plot_title = 'Top 10 Values Associated with Greater Likelihood of \\n Accepting Coffee Coupons (minimum sample N~1145)'\n",
    "sns.barplot(pd.DataFrame(count_list_sorted_1145[:10], columns=['variable', 'frequency']), x='variable', y='frequency')\n",
    "plt.title(plot_title)\n",
    "plt.xticks(rotation=80)\n",
    "plt.show()"
   ]
  },
  {
   "cell_type": "markdown",
   "metadata": {},
   "source": [
    "Here we see the most prevalent variable value was having the coupon location within 25 minutes, followed by sunny weather, temperature in the 80s, and a three-way tie for 4th: not having children, no urgent destination, and perhaps counterintuitively (unless my interpretation of this variable is incorrect), the coupon location being in the opposite direction of the destination, which may only be applicable when destination is NOT \"No Urgent Place\" (something to check for later)\n",
    "\n",
    "Among the top ten values at least, there was no competition between variables of the same type, which I thought was interesting as may suggest particular variables to explore in more depth. \n",
    "\n",
    "We can have more confidence in this list because the sample size is high even if the acceptance rates have a lower ceiling.\n",
    "\n",
    "Looking at the variable combinations with much smaller group sizes (n=30):"
   ]
  },
  {
   "cell_type": "code",
   "execution_count": 66,
   "metadata": {},
   "outputs": [
    {
     "name": "stdout",
     "output_type": "stream",
     "text": [
      "('1d (expiration)', 56)\n",
      "('1~3 (CoffeeHouse)', 56)\n",
      "('4~8 (CoffeeHouse)', 52)\n",
      "('0 (toCoupon_GEQ15min)', 50)\n",
      "('10 (time_numeric)', 49)\n",
      "('No Urgent Place (destination)', 49)\n",
      "('80 (temperature)', 48)\n",
      "('Friend(s) (passenger)', 47)\n",
      "('gt8 (CoffeeHouse)', 41)\n",
      "('37500 (income_min_numeric)', 39)\n",
      "('1 (direction_same)', 39)\n",
      "('12500 (income_min_numeric)', 39)\n",
      "('0 (toCoupon_GEQ25min)', 38)\n",
      "('14 (time_numeric)', 37)\n",
      "('Partner (passenger)', 36)\n",
      "('Single (maritalStatus)', 33)\n",
      "('Some college - no degree (education)', 33)\n",
      "('Sunny (weather)', 32)\n",
      "('Male (gender)', 32)\n",
      "('6250 (income_min_numeric)', 30)\n"
     ]
    }
   ],
   "source": [
    "var_cols_list_30 = np.concatenate(coffee_var_rates_30.query('acceptance_rate > 0.5000')[['var_1', 'var_2']].values).ravel().tolist()\n",
    "total_vars_30 = len(var_cols_list_30)\n",
    "count_dict_30 = {key:0 for key in set(var_cols_list_30)}\n",
    "for val in var_cols_list_30:\n",
    "    count_dict_30[val] += 1\n",
    "count_list_sorted_30 = sorted(count_dict_30.items(), key=lambda x:x[1], reverse=True)\n",
    "count_list_sorted_30.remove(('0 (direction_opp)', 39))\n",
    "for i in count_list_sorted_30[:20]:\n",
    "    print(i)"
   ]
  },
  {
   "cell_type": "code",
   "execution_count": 67,
   "metadata": {},
   "outputs": [
    {
     "data": {
      "image/png": "[encoded data removed]",
      "text/plain": [
       "<Figure size 640x480 with 1 Axes>"
      ]
     },
     "metadata": {},
     "output_type": "display_data"
    }
   ],
   "source": [
    "plot_title = 'Top 20 Values Associated with Greater Likelihood of \\n Accepting Coffee Coupons (minimum sample N~30)'\n",
    "sns.barplot(pd.DataFrame(count_list_sorted_30[:20], columns=['variable', 'frequency']), x='variable', y='frequency')\n",
    "plt.title(plot_title)\n",
    "plt.xticks(rotation=90)\n",
    "plt.show()"
   ]
  },
  {
   "cell_type": "markdown",
   "metadata": {},
   "source": [
    "With the smaller minimum sample sizes, we have more variable values associated with a greater than 50% likelihood of accepting the coupon. The top 5 values are expiration of 1 day, coffee place frequency between 1-8 times per month, being within 15 minutes of the coupon location, time of day being 10 am, and no urgent destination. Others in the top 10 that are also in the other list include temperature in the 80s and friends as passengers. It is interesting that the value tied to the most frequent coffee place attendance (greater than 8 times per month) appears fewer times than the values associated with less frequent (but still not never) attendance."
   ]
  },
  {
   "cell_type": "markdown",
   "metadata": {},
   "source": [
    "Further exploration on this path may consider looking at every available variable and seeing which value of each has the greatest frequency, such as above where 10 am occurs more than any other time of the day. \n",
    "\n",
    "Part of the reasoning of this approach besides convenience was that groups that are comprised of 3 or more variables would have increasingly smaller representative samples; however, future explorations may consider looking at groups comprised of more than 2 variables at once."
   ]
  },
  {
   "cell_type": "markdown",
   "metadata": {},
   "source": [
    "## Visualizing Acceptance Rates between Expiration and other Variables of Note"
   ]
  },
  {
   "cell_type": "markdown",
   "metadata": {},
   "source": [
    "Based on our findings up till now, expiration was one variable that seemed to show noticeable differences of acceptance rates based on the value. We will explore a sample of combinations of the expiration and other variables:\n",
    "- coffee place frequency\n",
    "- passenger\n",
    "- temperature"
   ]
  },
  {
   "cell_type": "code",
   "execution_count": 68,
   "metadata": {},
   "outputs": [],
   "source": [
    "def setup_comparison_data(df, var_1, var_2, threshold=30, sort=True, sort_by = \"acceptance_rate\", ascending=False):\n",
    "    \n",
    "    data = df.groupby([var_1,var_2])['Y'].value_counts().unstack().reset_index()\n",
    "#    For (rare) instances where a group has 100 % acceptance/refusal     \n",
    "    data = data.fillna(0)\n",
    "    data['total_count'] = data[1] + data[0]\n",
    "    data['acceptance_rate'] = data[1] / data['total_count']\n",
    "    data = data[[var_1,var_2, 'acceptance_rate', 'total_count']]\n",
    "    if sort:\n",
    "        assert sort_by in (var_1, var_2, \"acceptance_rate\", \"total_count\"), \"cannot sort by chosen column\"\n",
    "        data = data.sort_values(sort_by, ascending=ascending).reset_index(drop=True)\n",
    "    return data.query('total_count >= @threshold')\n",
    "\n",
    "def plot_bar_comparison(sorted_data, var_1, var_2, plot_title, legend_title=None, rotation=75, errorbar=None):\n",
    "    sns.barplot(sorted_data, x=var_1, y='acceptance_rate', hue=var_2, errorbar=errorbar)\n",
    "    if legend_title is None:\n",
    "        plt.legend(bbox_to_anchor=(1.05, 1), loc='upper left', borderaxespad=0, title=var_2)\n",
    "    else:\n",
    "        plt.legend(bbox_to_anchor=(1.05, 1), loc='upper left', borderaxespad=0, title=legend_title)\n",
    "    plt.title(title)\n",
    "    plt.xticks(rotation=rotation)\n",
    "    plt.ylim(0,1.0)\n",
    "    plt.show()\n",
    "\n",
    "def setup_and_barplot(df, var_1, var_2, plot_title, legend_title=None, rotation=75,  threshold=30, sort=True, sort_by=\"acceptance_rate\", ascending=False, errorbar=None):\n",
    "    sorted_data = setup_comparison_data(df, var_1, var_2, threshold=threshold, sort=sort, sort_by = sort_by, ascending=ascending)\n",
    "    plot_bar_comparison(sorted_data, var_1, var_2, plot_title, legend_title=legend_title, rotation=rotation, errorbar=errorbar)"
   ]
  },
  {
   "cell_type": "code",
   "execution_count": 69,
   "metadata": {},
   "outputs": [
    {
     "data": {
      "image/png": "[encoded data removed]",
      "text/plain": [
       "<Figure size 640x480 with 1 Axes>"
      ]
     },
     "metadata": {},
     "output_type": "display_data"
    }
   ],
   "source": [
    "var_1 = 'CoffeeHouse'\n",
    "var_2 = 'expiration'\n",
    "title = \"Acceptance Rates based on {var_1} and {var_2}\".format(var_1=var_1,var_2=var_2)\n",
    "args = (coffee_coupons, var_1, var_2, title)\n",
    "kwargs = {\"legend_title\":None, \"rotation\":0, \"threshold\":30, \"sort\":True, \"sort_by\":\"acceptance_rate\",\n",
    "         \"ascending\":False, \"errorbar\":None}\n",
    "setup_and_barplot(*args, **kwargs)"
   ]
  },
  {
   "cell_type": "markdown",
   "metadata": {},
   "source": [
    "Here we see acceptance rates declined monotonically with frequency among 1-day expirations, but there was not much change between those who went to coffee places at least once per month. There was a slight uptick in acceptance rates for 2-hour expirations for those who went to coffee places at least once a month but less frequently than the others. 1-day expiration coupons were uniformally more likely to be accepted regardless of frequency. "
   ]
  },
  {
   "cell_type": "code",
   "execution_count": 70,
   "metadata": {},
   "outputs": [
    {
     "data": {
      "image/png": "[encoded data removed]",
      "text/plain": [
       "<Figure size 640x480 with 1 Axes>"
      ]
     },
     "metadata": {},
     "output_type": "display_data"
    }
   ],
   "source": [
    "var_1 = 'passenger'\n",
    "var_2 = 'expiration'\n",
    "title = \"Acceptance Rates based on {var_1} and {var_2}\".format(var_1=var_1,var_2=var_2)\n",
    "args = (coffee_coupons, var_1, var_2, title)\n",
    "kwargs = {\"legend_title\":None, \"rotation\":0, \"threshold\":30, \"sort\":True, \"sort_by\":\"acceptance_rate\",\n",
    "         \"ascending\":False, \"errorbar\":None}\n",
    "setup_and_barplot(*args, **kwargs)"
   ]
  },
  {
   "cell_type": "markdown",
   "metadata": {},
   "source": [
    "Here we see that with kids and being alone, there is a dramatic decrease in acceptance rate for the 2-hour coupon expiration. This also shows one of the rare instances where the 2-hour coupon (slightly) exceeds the 1-day coupon when the passenger is a partner. This is an example of how acceptance rates can vary dramatically both between groups and within groups depending on the combination of variable values.    "
   ]
  },
  {
   "cell_type": "code",
   "execution_count": 71,
   "metadata": {},
   "outputs": [
    {
     "data": {
      "text/html": [
       "<div>\n",
       "<style scoped>\n",
       "    .dataframe tbody tr th:only-of-type {\n",
       "        vertical-align: middle;\n",
       "    }\n",
       "\n",
       "    .dataframe tbody tr th {\n",
       "        vertical-align: top;\n",
       "    }\n",
       "\n",
       "    .dataframe thead th {\n",
       "        text-align: right;\n",
       "    }\n",
       "</style>\n",
       "<table border=\"1\" class=\"dataframe\">\n",
       "  <thead>\n",
       "    <tr style=\"text-align: right;\">\n",
       "      <th>Y</th>\n",
       "      <th>var_1</th>\n",
       "      <th>var_2</th>\n",
       "      <th>acceptance_rate</th>\n",
       "      <th>total_count</th>\n",
       "    </tr>\n",
       "  </thead>\n",
       "  <tbody>\n",
       "    <tr>\n",
       "      <th>0</th>\n",
       "      <td>Kid(s) (passenger)</td>\n",
       "      <td>1d (expiration)</td>\n",
       "      <td>0.638095</td>\n",
       "      <td>105.0</td>\n",
       "    </tr>\n",
       "    <tr>\n",
       "      <th>1</th>\n",
       "      <td>Friend(s) (passenger)</td>\n",
       "      <td>1d (expiration)</td>\n",
       "      <td>0.635398</td>\n",
       "      <td>565.0</td>\n",
       "    </tr>\n",
       "    <tr>\n",
       "      <th>2</th>\n",
       "      <td>Partner (passenger)</td>\n",
       "      <td>2h (expiration)</td>\n",
       "      <td>0.583893</td>\n",
       "      <td>149.0</td>\n",
       "    </tr>\n",
       "    <tr>\n",
       "      <th>3</th>\n",
       "      <td>Friend(s) (passenger)</td>\n",
       "      <td>2h (expiration)</td>\n",
       "      <td>0.562295</td>\n",
       "      <td>610.0</td>\n",
       "    </tr>\n",
       "    <tr>\n",
       "      <th>4</th>\n",
       "      <td>Partner (passenger)</td>\n",
       "      <td>1d (expiration)</td>\n",
       "      <td>0.549296</td>\n",
       "      <td>142.0</td>\n",
       "    </tr>\n",
       "    <tr>\n",
       "      <th>5</th>\n",
       "      <td>Alone (passenger)</td>\n",
       "      <td>1d (expiration)</td>\n",
       "      <td>0.543700</td>\n",
       "      <td>881.0</td>\n",
       "    </tr>\n",
       "    <tr>\n",
       "      <th>6</th>\n",
       "      <td>Alone (passenger)</td>\n",
       "      <td>2h (expiration)</td>\n",
       "      <td>0.358150</td>\n",
       "      <td>1276.0</td>\n",
       "    </tr>\n",
       "    <tr>\n",
       "      <th>7</th>\n",
       "      <td>Kid(s) (passenger)</td>\n",
       "      <td>2h (expiration)</td>\n",
       "      <td>0.272727</td>\n",
       "      <td>88.0</td>\n",
       "    </tr>\n",
       "  </tbody>\n",
       "</table>\n",
       "</div>"
      ],
      "text/plain": [
       "Y                  var_1            var_2  acceptance_rate  total_count\n",
       "0     Kid(s) (passenger)  1d (expiration)         0.638095        105.0\n",
       "1  Friend(s) (passenger)  1d (expiration)         0.635398        565.0\n",
       "2    Partner (passenger)  2h (expiration)         0.583893        149.0\n",
       "3  Friend(s) (passenger)  2h (expiration)         0.562295        610.0\n",
       "4    Partner (passenger)  1d (expiration)         0.549296        142.0\n",
       "5      Alone (passenger)  1d (expiration)         0.543700        881.0\n",
       "6      Alone (passenger)  2h (expiration)         0.358150       1276.0\n",
       "7     Kid(s) (passenger)  2h (expiration)         0.272727         88.0"
      ]
     },
     "execution_count": 71,
     "metadata": {},
     "output_type": "execute_result"
    }
   ],
   "source": [
    "exp_vars = [\"2h (expiration)\", \"1d (expiration)\"]\n",
    "pass_vars = [\"Kid(s) (passenger)\", \"Friend(s) (passenger)\", \"Partner (passenger)\", \"Alone (passenger)\"]\n",
    "exp_n30 = coffee_var_rates_30.query('var_1 in @exp_vars or var_2 in @exp_vars').query(\"var_1 in @pass_vars or var_2 in @pass_vars\")\n",
    "exp_n30.reset_index(drop=True)"
   ]
  },
  {
   "cell_type": "code",
   "execution_count": 72,
   "metadata": {},
   "outputs": [
    {
     "data": {
      "image/png": "[encoded data removed]",
      "text/plain": [
       "<Figure size 640x480 with 1 Axes>"
      ]
     },
     "metadata": {},
     "output_type": "display_data"
    }
   ],
   "source": [
    "var_1 = 'temperature'\n",
    "var_2 = 'expiration'\n",
    "title = \"Acceptance Rates based on {var_1} and {var_2}\".format(var_1=var_1,var_2=var_2)\n",
    "args = (coffee_coupons, var_1, var_2, title)\n",
    "kwargs = {\"legend_title\":None, \"rotation\":0, \"threshold\":30, \"sort\":True, \"sort_by\":\"acceptance_rate\",\n",
    "         \"ascending\":False, \"errorbar\":None}\n",
    "setup_and_barplot(*args, **kwargs)"
   ]
  },
  {
   "cell_type": "markdown",
   "metadata": {},
   "source": [
    "Here we see an intuitive case where temperature does not really seem correlated with acceptance rates for 1-day expiration coupons,  but it is for the 2-hour coupons, where acceptance rates increase with temperature. "
   ]
  },
  {
   "cell_type": "markdown",
   "metadata": {},
   "source": [
    "## Conclusion and Findings"
   ]
  },
  {
   "cell_type": "markdown",
   "metadata": {},
   "source": [
    "This project looked at few approaches of determining what properties correlated with a higher coupon acceptance rate. We looked at coffee coupons in particular because they were the largest share of coupons but one of the lower rates.\n",
    "\n",
    "After splitting the data into groups based on two variables, we counted the number of times certain values occured for groups with greater than 50% acceptance rate. Some of the standout properties include:\n",
    "\n",
    "- **longer coupon expiration windows**\n",
    "- **closer proximity to the coupon location upon delivery**\n",
    "- **having no urgent destination**\n",
    "- **good/warmer weather**\n",
    "- **time of 10 am or 2 pm**\n",
    "- **being with friends or partners**\n",
    "- **mid to high coffee place frequency**\n",
    "- **single**\n",
    "- __income lower than $50k__\n",
    "\n",
    "I would thus recommend delivering coffee coupons to those who fit these criteria"
   ]
  },
  {
   "cell_type": "markdown",
   "metadata": {},
   "source": [
    "## Next Steps and Recommendations"
   ]
  },
  {
   "cell_type": "markdown",
   "metadata": {},
   "source": [
    "- We can go further to find precise correlations between groups and coupon acceptance\n",
    "- Odds ratios can tell us the relative odds for binary variables \n",
    "(i.e., \"The odds of accepting the coupon doubles if a recipient is within 25 minutes of the coupon location\")\n",
    "- We can try to find the value(s) of each variable that most increase/decrease the likelihood of the coupon being accepted\n",
    "- Further exploration of variables that have many values such as occupation and income\n",
    "- Adding error bars to the acceptance rate bar plots as a reflection of group size\n",
    "- Adding a 50% acceptance rate horizontal line on barplots for comparison"
   ]
  },
  {
   "cell_type": "code",
   "execution_count": null,
   "metadata": {},
   "outputs": [],
   "source": []
  }
 ],
 "metadata": {
  "kernelspec": {
   "display_name": "Python 3 (ipykernel)",
   "language": "python",
   "name": "python3"
  },
  "language_info": {
   "codemirror_mode": {
    "name": "ipython",
    "version": 3
   },
   "file_extension": ".py",
   "mimetype": "text/x-python",
   "name": "python",
   "nbconvert_exporter": "python",
   "pygments_lexer": "ipython3",
   "version": "3.10.9"
  },
  "widgets": {
   "application/vnd.jupyter.widget-state+json": {
    "state": {},
    "version_major": 2,
    "version_minor": 0
   }
  }
 },
 "nbformat": 4,
 "nbformat_minor": 4
}
